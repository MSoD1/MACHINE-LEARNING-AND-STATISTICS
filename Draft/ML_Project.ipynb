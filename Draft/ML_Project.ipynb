{
  "cells": [
    {
      "cell_type": "markdown",
      "metadata": {},
      "source": [
        "**Machine Learning and Statistics, Winter 2023/24**<br>",
        "***Project Assessment***<br>",
        "***Tasks:***<br>",
        "<br> 1. The project is to create a notebook exploring classification algorithms applied on the iris flower data set associated with Ronald A Fisher.<br>",
        "<br> 2. In your notebook, you should first explain what supervised learning is and then explain what classification algorithms are.<br>",
        "<br> 3. Describe at least one common classification algorithm and implement it using the scikit-learn Python library.<br>",
        "<br> 4. Throughout your notebook, use appropriate plots, mathematical notation, and diagrams to explain the relevant concepts.<br>",

      ]
    },
    {
      "cell_type": "markdown",
      "metadata": {},
      "source": [
        "<p style='text-align: justify;'> Supervised machine learning is where an algorithim is trained on inputed data that has been labeled for a particular output, aiming to make sense of data within the context of a specific question. The algorithm is trained to make predictions or decisions based on the data inputs. The method results in a mapping between input and output data. <br>\n",
        "The inputs are known as features or ‘X variables’  and output is generally referred to as the target or ‘y variable’. The type of data which contains both the features and the target is known as labeled data. It is the key difference between supervised and unsupervised machine learning. <br>\n",
        "Supervised learning models typically produce more accurate results than unsupervised learning. Supervised learning is good at classification and regression problems.<p><br>"
      ]
    },
    {
      "cell_type": "markdown",
      "metadata": {},
      "source": [
        "<p style='text-align: justify;'> Classification is a type of supervised learning that categorizes input data into predefined labels. It involves training a model on labeled examples to learn patterns between input features and output classes.<br>\n",
        "Classification uses a training set containing data that has been \"labeled\" by a person or process to generate a mathematical model for predicting the labels/categories of data that it has not seen yet.<br>\n",
        "KNN (K-Nearest Neighbors) algorithm is a simple yet effective classification method. By considering the K closest neighbors in the training dataset, it predicts the class label of a new data point based on majority voting.<p><br>"
      ]
    },
    {
      "cell_type": "markdown",
      "metadata": {},
      "source": [
        "<p style='text-align: justify;'> After training the model with the training data, we used it to make predictions on the testing data (`X_test`). We then calculated the accuracy of the model by comparing the predicted labels (`y_pred`) with the true labels (`y_test`). Additionally, we used the `classification_report` and `confusion_matrix` functions to further evaluate the model’s performance.<p>"
      ]
    },
    {
      "cell_type": "code",
      "execution_count": null,
      "metadata": {
        "trusted": true
      },
      "outputs": [],
      "source": [
        "import matplotlib\n",
        "import numpy as np\n",
        "import matplotlib.pyplot as plt\n",
        "%matplotlib inline"
      ]
    },
    {
      "cell_type": "code",
      "execution_count": null,
      "metadata": {
        "trusted": true
      },
      "outputs": [],
      "source": [
        "import pandas as pd"
      ]
    },
    {
      "cell_type": "code",
      "execution_count": null,
      "metadata": {
        "trusted": true
      },
      "outputs": [],
      "source": [
        "%pip install seaborn\n",
        "import seaborn as sns"
      ]
    },
    {
      "cell_type": "code",
      "execution_count": null,
      "metadata": {
        "trusted": true
      },
      "outputs": [
        {
          "data": {
            "text/html": [
              "<div>\n",
              "<style scoped>\n",
              "    .dataframe tbody tr th:only-of-type {\n",
              "        vertical-align: middle;\n",
              "    }\n",
              "\n",
              "    .dataframe tbody tr th {\n",
              "        vertical-align: top;\n",
              "    }\n",
              "\n",
              "    .dataframe thead th {\n",
              "        text-align: right;\n",
              "    }\n",
              "</style>\n",
              "<table border=\"1\" class=\"dataframe\">\n",
              "  <thead>\n",
              "    <tr style=\"text-align: right;\">\n",
              "      <th></th>\n",
              "      <th>sepal_length</th>\n",
              "      <th>sepal_width</th>\n",
              "      <th>petal_length</th>\n",
              "      <th>petal_width</th>\n",
              "      <th>species</th>\n",
              "    </tr>\n",
              "  </thead>\n",
              "  <tbody>\n",
              "    <tr>\n",
              "      <th>0</th>\n",
              "      <td>5.1</td>\n",
              "      <td>3.5</td>\n",
              "      <td>1.4</td>\n",
              "      <td>0.2</td>\n",
              "      <td>setosa</td>\n",
              "    </tr>\n",
              "    <tr>\n",
              "      <th>1</th>\n",
              "      <td>4.9</td>\n",
              "      <td>3.0</td>\n",
              "      <td>1.4</td>\n",
              "      <td>0.2</td>\n",
              "      <td>setosa</td>\n",
              "    </tr>\n",
              "    <tr>\n",
              "      <th>2</th>\n",
              "      <td>4.7</td>\n",
              "      <td>3.2</td>\n",
              "      <td>1.3</td>\n",
              "      <td>0.2</td>\n",
              "      <td>setosa</td>\n",
              "    </tr>\n",
              "    <tr>\n",
              "      <th>3</th>\n",
              "      <td>4.6</td>\n",
              "      <td>3.1</td>\n",
              "      <td>1.5</td>\n",
              "      <td>0.2</td>\n",
              "      <td>setosa</td>\n",
              "    </tr>\n",
              "    <tr>\n",
              "      <th>4</th>\n",
              "      <td>5.0</td>\n",
              "      <td>3.6</td>\n",
              "      <td>1.4</td>\n",
              "      <td>0.2</td>\n",
              "      <td>setosa</td>\n",
              "    </tr>\n",
              "  </tbody>\n",
              "</table>\n",
              "</div>"
            ],
            "text/plain": [
              "   sepal_length  sepal_width  petal_length  petal_width species\n",
              "0           5.1          3.5           1.4          0.2  setosa\n",
              "1           4.9          3.0           1.4          0.2  setosa\n",
              "2           4.7          3.2           1.3          0.2  setosa\n",
              "3           4.6          3.1           1.5          0.2  setosa\n",
              "4           5.0          3.6           1.4          0.2  setosa"
            ]
          },
          "execution_count": 119,
          "metadata": {},
          "output_type": "execute_result"
        }
      ],
      "source": [
        "iris = pd.read_csv('iris.csv')\n",
        "iris.head()"
      ]
    },
    {
      "cell_type": "code",
      "execution_count": null,
      "metadata": {
        "trusted": true
      },
      "outputs": [
        {
          "data": {
            "text/plain": [
              "<matplotlib.legend.Legend at 0x5cc5cf0>"
            ]
          },
          "execution_count": 120,
          "metadata": {},
          "output_type": "execute_result"
        },
        {
          "data": {
            "image/png": "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",
            "text/plain": [
              "<Figure size 1300x700 with 1 Axes>"
            ]
          },
          "metadata": {},
          "output_type": "display_data"
        }
      ],
      "source": [
        "setosa = iris[iris.species == \"setosa\"]\n",
        "versicolor = iris[iris.species=='versicolor']\n",
        "virginica = iris[iris.species=='virginica']\n",
        "\n",
        "fig, ax = plt.subplots()\n",
        "fig.set_size_inches(13, 7) # adjusting the length and width of plot\n",
        "\n",
        "# lables and scatter points\n",
        "ax.scatter(setosa['sepal_length'], setosa['sepal_width'], label=\"Setosa\", facecolor=\"blue\")\n",
        "ax.scatter(versicolor['sepal_length'], versicolor['sepal_width'], label=\"Versicolor\", facecolor=\"green\")\n",
        "ax.scatter(virginica['sepal_length'], virginica['sepal_width'], label=\"Virginica\", facecolor=\"red\")\n",
        "\n",
        "\n",
        "ax.set_xlabel(\"sepal length\")\n",
        "ax.set_ylabel(\"sepal width\")\n",
        "ax.grid()\n",
        "ax.set_title(\"Iris sepal\")\n",
        "ax.legend()"
      ]
    },
    {
      "cell_type": "code",
      "execution_count": null,
      "metadata": {
        "trusted": true
      },
      "outputs": [
        {
          "data": {
            "text/plain": [
              "<matplotlib.legend.Legend at 0xda0d228>"
            ]
          },
          "execution_count": 121,
          "metadata": {},
          "output_type": "execute_result"
        },
        {
          "data": {
            "image/png": "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",
            "text/plain": [
              "<Figure size 1300x700 with 1 Axes>"
            ]
          },
          "metadata": {},
          "output_type": "display_data"
        }
      ],
      "source": [
        "setosa = iris[iris.species == \"setosa\"]\n",
        "versicolor = iris[iris.species=='versicolor']\n",
        "virginica = iris[iris.species=='virginica']\n",
        "\n",
        "fig, ax = plt.subplots()\n",
        "fig.set_size_inches(13, 7) # adjusting the length and width of plot\n",
        "\n",
        "# lables and scatter points\n",
        "ax.scatter(setosa['sepal_length'], setosa['sepal_width'], label=\"Setosa\", facecolor=\"blue\")\n",
        "ax.scatter(versicolor['sepal_length'], versicolor['sepal_width'], label=\"Versicolor\", facecolor=\"green\")\n",
        "ax.scatter(virginica['sepal_length'], virginica['sepal_width'], label=\"Virginica\", facecolor=\"red\")\n",
        "\n",
        "\n",
        "ax.set_xlabel(\"sepal length\")\n",
        "ax.set_ylabel(\"sepal width\")\n",
        "ax.grid()\n",
        "ax.set_title(\"Iris sepal\")\n",
        "ax.legend()"
      ]
    },
    {
      "cell_type": "code",
      "execution_count": null,
      "metadata": {
        "trusted": true
      },
      "outputs": [
        {
          "data": {
            "text/html": [
              "<div>\n",
              "<style scoped>\n",
              "    .dataframe tbody tr th:only-of-type {\n",
              "        vertical-align: middle;\n",
              "    }\n",
              "\n",
              "    .dataframe tbody tr th {\n",
              "        vertical-align: top;\n",
              "    }\n",
              "\n",
              "    .dataframe thead th {\n",
              "        text-align: right;\n",
              "    }\n",
              "</style>\n",
              "<table border=\"1\" class=\"dataframe\">\n",
              "  <thead>\n",
              "    <tr style=\"text-align: right;\">\n",
              "      <th></th>\n",
              "      <th>species</th>\n",
              "      <th>setosa</th>\n",
              "      <th>versicolor</th>\n",
              "      <th>virginica</th>\n",
              "    </tr>\n",
              "  </thead>\n",
              "  <tbody>\n",
              "    <tr>\n",
              "      <th rowspan=\"8\" valign=\"top\">sepal_length</th>\n",
              "      <th>count</th>\n",
              "      <td>50.000000</td>\n",
              "      <td>50.000000</td>\n",
              "      <td>50.000000</td>\n",
              "    </tr>\n",
              "    <tr>\n",
              "      <th>mean</th>\n",
              "      <td>5.006000</td>\n",
              "      <td>5.936000</td>\n",
              "      <td>6.588000</td>\n",
              "    </tr>\n",
              "    <tr>\n",
              "      <th>std</th>\n",
              "      <td>0.352490</td>\n",
              "      <td>0.516171</td>\n",
              "      <td>0.635880</td>\n",
              "    </tr>\n",
              "    <tr>\n",
              "      <th>min</th>\n",
              "      <td>4.300000</td>\n",
              "      <td>4.900000</td>\n",
              "      <td>4.900000</td>\n",
              "    </tr>\n",
              "    <tr>\n",
              "      <th>25%</th>\n",
              "      <td>4.800000</td>\n",
              "      <td>5.600000</td>\n",
              "      <td>6.225000</td>\n",
              "    </tr>\n",
              "    <tr>\n",
              "      <th>50%</th>\n",
              "      <td>5.000000</td>\n",
              "      <td>5.900000</td>\n",
              "      <td>6.500000</td>\n",
              "    </tr>\n",
              "    <tr>\n",
              "      <th>75%</th>\n",
              "      <td>5.200000</td>\n",
              "      <td>6.300000</td>\n",
              "      <td>6.900000</td>\n",
              "    </tr>\n",
              "    <tr>\n",
              "      <th>max</th>\n",
              "      <td>5.800000</td>\n",
              "      <td>7.000000</td>\n",
              "      <td>7.900000</td>\n",
              "    </tr>\n",
              "    <tr>\n",
              "      <th rowspan=\"8\" valign=\"top\">sepal_width</th>\n",
              "      <th>count</th>\n",
              "      <td>50.000000</td>\n",
              "      <td>50.000000</td>\n",
              "      <td>50.000000</td>\n",
              "    </tr>\n",
              "    <tr>\n",
              "      <th>mean</th>\n",
              "      <td>3.418000</td>\n",
              "      <td>2.770000</td>\n",
              "      <td>2.974000</td>\n",
              "    </tr>\n",
              "    <tr>\n",
              "      <th>std</th>\n",
              "      <td>0.381024</td>\n",
              "      <td>0.313798</td>\n",
              "      <td>0.322497</td>\n",
              "    </tr>\n",
              "    <tr>\n",
              "      <th>min</th>\n",
              "      <td>2.300000</td>\n",
              "      <td>2.000000</td>\n",
              "      <td>2.200000</td>\n",
              "    </tr>\n",
              "    <tr>\n",
              "      <th>25%</th>\n",
              "      <td>3.125000</td>\n",
              "      <td>2.525000</td>\n",
              "      <td>2.800000</td>\n",
              "    </tr>\n",
              "    <tr>\n",
              "      <th>50%</th>\n",
              "      <td>3.400000</td>\n",
              "      <td>2.800000</td>\n",
              "      <td>3.000000</td>\n",
              "    </tr>\n",
              "    <tr>\n",
              "      <th>75%</th>\n",
              "      <td>3.675000</td>\n",
              "      <td>3.000000</td>\n",
              "      <td>3.175000</td>\n",
              "    </tr>\n",
              "    <tr>\n",
              "      <th>max</th>\n",
              "      <td>4.400000</td>\n",
              "      <td>3.400000</td>\n",
              "      <td>3.800000</td>\n",
              "    </tr>\n",
              "    <tr>\n",
              "      <th rowspan=\"8\" valign=\"top\">petal_length</th>\n",
              "      <th>count</th>\n",
              "      <td>50.000000</td>\n",
              "      <td>50.000000</td>\n",
              "      <td>50.000000</td>\n",
              "    </tr>\n",
              "    <tr>\n",
              "      <th>mean</th>\n",
              "      <td>1.464000</td>\n",
              "      <td>4.260000</td>\n",
              "      <td>5.552000</td>\n",
              "    </tr>\n",
              "    <tr>\n",
              "      <th>std</th>\n",
              "      <td>0.173511</td>\n",
              "      <td>0.469911</td>\n",
              "      <td>0.551895</td>\n",
              "    </tr>\n",
              "    <tr>\n",
              "      <th>min</th>\n",
              "      <td>1.000000</td>\n",
              "      <td>3.000000</td>\n",
              "      <td>4.500000</td>\n",
              "    </tr>\n",
              "    <tr>\n",
              "      <th>25%</th>\n",
              "      <td>1.400000</td>\n",
              "      <td>4.000000</td>\n",
              "      <td>5.100000</td>\n",
              "    </tr>\n",
              "    <tr>\n",
              "      <th>50%</th>\n",
              "      <td>1.500000</td>\n",
              "      <td>4.350000</td>\n",
              "      <td>5.550000</td>\n",
              "    </tr>\n",
              "    <tr>\n",
              "      <th>75%</th>\n",
              "      <td>1.575000</td>\n",
              "      <td>4.600000</td>\n",
              "      <td>5.875000</td>\n",
              "    </tr>\n",
              "    <tr>\n",
              "      <th>max</th>\n",
              "      <td>1.900000</td>\n",
              "      <td>5.100000</td>\n",
              "      <td>6.900000</td>\n",
              "    </tr>\n",
              "    <tr>\n",
              "      <th rowspan=\"8\" valign=\"top\">petal_width</th>\n",
              "      <th>count</th>\n",
              "      <td>50.000000</td>\n",
              "      <td>50.000000</td>\n",
              "      <td>50.000000</td>\n",
              "    </tr>\n",
              "    <tr>\n",
              "      <th>mean</th>\n",
              "      <td>0.244000</td>\n",
              "      <td>1.326000</td>\n",
              "      <td>2.026000</td>\n",
              "    </tr>\n",
              "    <tr>\n",
              "      <th>std</th>\n",
              "      <td>0.107210</td>\n",
              "      <td>0.197753</td>\n",
              "      <td>0.274650</td>\n",
              "    </tr>\n",
              "    <tr>\n",
              "      <th>min</th>\n",
              "      <td>0.100000</td>\n",
              "      <td>1.000000</td>\n",
              "      <td>1.400000</td>\n",
              "    </tr>\n",
              "    <tr>\n",
              "      <th>25%</th>\n",
              "      <td>0.200000</td>\n",
              "      <td>1.200000</td>\n",
              "      <td>1.800000</td>\n",
              "    </tr>\n",
              "    <tr>\n",
              "      <th>50%</th>\n",
              "      <td>0.200000</td>\n",
              "      <td>1.300000</td>\n",
              "      <td>2.000000</td>\n",
              "    </tr>\n",
              "    <tr>\n",
              "      <th>75%</th>\n",
              "      <td>0.300000</td>\n",
              "      <td>1.500000</td>\n",
              "      <td>2.300000</td>\n",
              "    </tr>\n",
              "    <tr>\n",
              "      <th>max</th>\n",
              "      <td>0.600000</td>\n",
              "      <td>1.800000</td>\n",
              "      <td>2.500000</td>\n",
              "    </tr>\n",
              "  </tbody>\n",
              "</table>\n",
              "</div>"
            ],
            "text/plain": [
              "species                setosa  versicolor  virginica\n",
              "sepal_length count  50.000000   50.000000  50.000000\n",
              "             mean    5.006000    5.936000   6.588000\n",
              "             std     0.352490    0.516171   0.635880\n",
              "             min     4.300000    4.900000   4.900000\n",
              "             25%     4.800000    5.600000   6.225000\n",
              "             50%     5.000000    5.900000   6.500000\n",
              "             75%     5.200000    6.300000   6.900000\n",
              "             max     5.800000    7.000000   7.900000\n",
              "sepal_width  count  50.000000   50.000000  50.000000\n",
              "             mean    3.418000    2.770000   2.974000\n",
              "             std     0.381024    0.313798   0.322497\n",
              "             min     2.300000    2.000000   2.200000\n",
              "             25%     3.125000    2.525000   2.800000\n",
              "             50%     3.400000    2.800000   3.000000\n",
              "             75%     3.675000    3.000000   3.175000\n",
              "             max     4.400000    3.400000   3.800000\n",
              "petal_length count  50.000000   50.000000  50.000000\n",
              "             mean    1.464000    4.260000   5.552000\n",
              "             std     0.173511    0.469911   0.551895\n",
              "             min     1.000000    3.000000   4.500000\n",
              "             25%     1.400000    4.000000   5.100000\n",
              "             50%     1.500000    4.350000   5.550000\n",
              "             75%     1.575000    4.600000   5.875000\n",
              "             max     1.900000    5.100000   6.900000\n",
              "petal_width  count  50.000000   50.000000  50.000000\n",
              "             mean    0.244000    1.326000   2.026000\n",
              "             std     0.107210    0.197753   0.274650\n",
              "             min     0.100000    1.000000   1.400000\n",
              "             25%     0.200000    1.200000   1.800000\n",
              "             50%     0.200000    1.300000   2.000000\n",
              "             75%     0.300000    1.500000   2.300000\n",
              "             max     0.600000    1.800000   2.500000"
            ]
          },
          "execution_count": 122,
          "metadata": {},
          "output_type": "execute_result"
        }
      ],
      "source": [
        "iris_species = iris.groupby('species')\n",
        "iris_species.describe().T"
      ]
    },
    {
      "cell_type": "code",
      "execution_count": null,
      "metadata": {
        "trusted": true
      },
      "outputs": [],
      "source": [
        "from sklearn.preprocessing import LabelEncoder\n",
        "from sklearn.preprocessing import MinMaxScaler\n"
      ]
    },
    {
      "cell_type": "code",
      "execution_count": null,
      "metadata": {
        "trusted": true
      },
      "outputs": [
        {
          "name": "stdout",
          "output_type": "stream",
          "text": [
            "0    50\n",
            "1    50\n",
            "2    50\n",
            "Name: species, dtype: int64\n",
            "<class 'pandas.core.frame.DataFrame'>\n",
            "RangeIndex: 150 entries, 0 to 149\n",
            "Data columns (total 5 columns):\n",
            " #   Column        Non-Null Count  Dtype  \n",
            "---  ------        --------------  -----  \n",
            " 0   sepal_length  150 non-null    float64\n",
            " 1   sepal_width   150 non-null    float64\n",
            " 2   petal_length  150 non-null    float64\n",
            " 3   petal_width   150 non-null    float64\n",
            " 4   species       150 non-null    int32  \n",
            "dtypes: float64(4), int32(1)\n",
            "memory usage: 5.3 KB\n",
            "\n",
            "None\n"
          ]
        }
      ],
      "source": [
        "#Label encoding the target\n",
        "label_encoder = LabelEncoder()\n",
        "iris['species'] = label_encoder.fit_transform(iris['species'])\n",
        "print(iris['species'].value_counts())\n",
        "print('\\n{}'.format(iris.info()))"
      ]
    },
    {
      "cell_type": "markdown",
      "metadata": {},
      "source": [
        "***Training and Testing data split***"
      ]
    },
    {
      "cell_type": "markdown",
      "metadata": {},
      "source": [
        "The petal and sepal dimensions will be our model's features, and the species will be the label. The process of creating the model is called \"training.\" First, we use train_test_split to randomly sample cases into train and test data frames."
      ]
    },
    {
      "cell_type": "code",
      "execution_count": null,
      "metadata": {
        "trusted": true
      },
      "outputs": [],
      "source": [
        "from sklearn.model_selection import train_test_split"
      ]
    },
    {
      "cell_type": "markdown",
      "metadata": {},
      "source": [
        "Here we are passing 0.25 as a parameter in the train_test_split which will split the data 80/20 training/test to ensure we have enough training data."
      ]
    },
    {
      "cell_type": "code",
      "execution_count": null,
      "metadata": {
        "trusted": true
      },
      "outputs": [],
      "source": [
        "train, test = train_test_split(iris, test_size=0.2)\n",
        "\n",
        "# Assign training data features and targets\n",
        "X_train = train[['sepal_length', 'sepal_width', 'petal_length', 'petal_width']]\n",
        "y_train = train.species\n",
        "\n",
        "# Assign test data features and targets\n",
        "X_test = test[['sepal_length', 'sepal_width', 'petal_length', 'petal_width']]\n",
        "y_test = test.species"
      ]
    },
    {
      "cell_type": "code",
      "execution_count": null,
      "metadata": {
        "trusted": true
      },
      "outputs": [
        {
          "name": "stdout",
          "output_type": "stream",
          "text": [
            "(120, 4) (30, 4) (120,) (30,)\n"
          ]
        }
      ],
      "source": [
        "print(X_train.shape, X_test.shape, y_train.shape, y_test.shape)"
      ]
    },
    {
      "cell_type": "code",
      "execution_count": null,
      "metadata": {
        "trusted": true
      },
      "outputs": [
        {
          "name": "stdout",
          "output_type": "stream",
          "text": [
            "     sepal_length  sepal_width  petal_length  petal_width\n",
            "104           6.5          3.0           5.8          2.2\n",
            "61            5.9          3.0           4.2          1.5\n",
            "113           5.7          2.5           5.0          2.0\n",
            "124           6.7          3.3           5.7          2.1\n",
            "122           7.7          2.8           6.7          2.0\n",
            "..            ...          ...           ...          ...\n",
            "56            6.3          3.3           4.7          1.6\n",
            "133           6.3          2.8           5.1          1.5\n",
            "103           6.3          2.9           5.6          1.8\n",
            "49            5.0          3.3           1.4          0.2\n",
            "14            5.8          4.0           1.2          0.2\n",
            "\n",
            "[120 rows x 4 columns]\n"
          ]
        }
      ],
      "source": [
        "print(X_train)"
      ]
    },
    {
      "cell_type": "markdown",
      "metadata": {},
      "source": [
        "***K Selection*** <br>\n",
        "Based on the below graph, our trained model will give an optimal solution when the K = 3. It is general best practise to take k as an odd number."
      ]
    },
    {
      "cell_type": "code",
      "execution_count": null,
      "metadata": {
        "trusted": true
      },
      "outputs": [
        {
          "data": {
            "text/plain": [
              "<matplotlib.legend.Legend at 0xe8bd918>"
            ]
          },
          "execution_count": 201,
          "metadata": {},
          "output_type": "execute_result"
        },
        {
          "data": {
            "image/png": "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",
            "text/plain": [
              "<Figure size 640x480 with 1 Axes>"
            ]
          },
          "metadata": {},
          "output_type": "display_data"
        }
      ],
      "source": [
        "import numpy as np\n",
        "# creating sets for errors\n",
        "error1= []\n",
        "error2= []\n",
        "# for loop \n",
        "for k in range(1,15):\n",
        "    # using KNN algorithm\n",
        "    knn = KNeighborsClassifier(n_neighbors=k)\n",
        "    knn.fit(X_train,y_train)\n",
        "    y_pred1 = knn.predict(X_train)\n",
        "    # stroring the errors\n",
        "    error1.append(np.mean(y_train!= y_pred1))\n",
        "    y_pred2 = knn.predict(X_test)\n",
        "    error2.append(np.mean(y_test != y_pred2))\n",
        "# ploting the graphs for testing and training \n",
        "plt.plot(range(1,15), error1, label=\"train\")\n",
        "plt.plot(range(1,15), error2, label=\"test\")\n",
        "plt.xlabel('k Value')\n",
        "plt.ylabel('Error')\n",
        "plt.legend()"
      ]
    },
    {
      "cell_type": "markdown",
      "metadata": {},
      "source": [
        "***KNN Classifier***"
      ]
    },
    {
      "cell_type": "code",
      "execution_count": null,
      "metadata": {
        "trusted": true
      },
      "outputs": [],
      "source": [
        "from sklearn.neighbors import KNeighborsClassifier"
      ]
    },
    {
      "cell_type": "code",
      "execution_count": null,
      "metadata": {
        "trusted": true
      },
      "outputs": [
        {
          "data": {
            "text/html": [
              "<style>#sk-container-id-16 {color: black;}#sk-container-id-16 pre{padding: 0;}#sk-container-id-16 div.sk-toggleable {background-color: white;}#sk-container-id-16 label.sk-toggleable__label {cursor: pointer;display: block;width: 100%;margin-bottom: 0;padding: 0.3em;box-sizing: border-box;text-align: center;}#sk-container-id-16 label.sk-toggleable__label-arrow:before {content: \"▸\";float: left;margin-right: 0.25em;color: #696969;}#sk-container-id-16 label.sk-toggleable__label-arrow:hover:before {color: black;}#sk-container-id-16 div.sk-estimator:hover label.sk-toggleable__label-arrow:before {color: black;}#sk-container-id-16 div.sk-toggleable__content {max-height: 0;max-width: 0;overflow: hidden;text-align: left;background-color: #f0f8ff;}#sk-container-id-16 div.sk-toggleable__content pre {margin: 0.2em;color: black;border-radius: 0.25em;background-color: #f0f8ff;}#sk-container-id-16 input.sk-toggleable__control:checked~div.sk-toggleable__content {max-height: 200px;max-width: 100%;overflow: auto;}#sk-container-id-16 input.sk-toggleable__control:checked~label.sk-toggleable__label-arrow:before {content: \"▾\";}#sk-container-id-16 div.sk-estimator input.sk-toggleable__control:checked~label.sk-toggleable__label {background-color: #d4ebff;}#sk-container-id-16 div.sk-label input.sk-toggleable__control:checked~label.sk-toggleable__label {background-color: #d4ebff;}#sk-container-id-16 input.sk-hidden--visually {border: 0;clip: rect(1px 1px 1px 1px);clip: rect(1px, 1px, 1px, 1px);height: 1px;margin: -1px;overflow: hidden;padding: 0;position: absolute;width: 1px;}#sk-container-id-16 div.sk-estimator {font-family: monospace;background-color: #f0f8ff;border: 1px dotted black;border-radius: 0.25em;box-sizing: border-box;margin-bottom: 0.5em;}#sk-container-id-16 div.sk-estimator:hover {background-color: #d4ebff;}#sk-container-id-16 div.sk-parallel-item::after {content: \"\";width: 100%;border-bottom: 1px solid gray;flex-grow: 1;}#sk-container-id-16 div.sk-label:hover label.sk-toggleable__label {background-color: #d4ebff;}#sk-container-id-16 div.sk-serial::before {content: \"\";position: absolute;border-left: 1px solid gray;box-sizing: border-box;top: 0;bottom: 0;left: 50%;z-index: 0;}#sk-container-id-16 div.sk-serial {display: flex;flex-direction: column;align-items: center;background-color: white;padding-right: 0.2em;padding-left: 0.2em;position: relative;}#sk-container-id-16 div.sk-item {position: relative;z-index: 1;}#sk-container-id-16 div.sk-parallel {display: flex;align-items: stretch;justify-content: center;background-color: white;position: relative;}#sk-container-id-16 div.sk-item::before, #sk-container-id-16 div.sk-parallel-item::before {content: \"\";position: absolute;border-left: 1px solid gray;box-sizing: border-box;top: 0;bottom: 0;left: 50%;z-index: -1;}#sk-container-id-16 div.sk-parallel-item {display: flex;flex-direction: column;z-index: 1;position: relative;background-color: white;}#sk-container-id-16 div.sk-parallel-item:first-child::after {align-self: flex-end;width: 50%;}#sk-container-id-16 div.sk-parallel-item:last-child::after {align-self: flex-start;width: 50%;}#sk-container-id-16 div.sk-parallel-item:only-child::after {width: 0;}#sk-container-id-16 div.sk-dashed-wrapped {border: 1px dashed gray;margin: 0 0.4em 0.5em 0.4em;box-sizing: border-box;padding-bottom: 0.4em;background-color: white;}#sk-container-id-16 div.sk-label label {font-family: monospace;font-weight: bold;display: inline-block;line-height: 1.2em;}#sk-container-id-16 div.sk-label-container {text-align: center;}#sk-container-id-16 div.sk-container {/* jupyter's `normalize.less` sets `[hidden] { display: none; }` but bootstrap.min.css set `[hidden] { display: none !important; }` so we also need the `!important` here to be able to override the default hidden behavior on the sphinx rendered scikit-learn.org. See: https://github.com/scikit-learn/scikit-learn/issues/21755 */display: inline-block !important;position: relative;}#sk-container-id-16 div.sk-text-repr-fallback {display: none;}</style><div id=\"sk-container-id-16\" class=\"sk-top-container\"><div class=\"sk-text-repr-fallback\"><pre>KNeighborsClassifier(n_neighbors=3)</pre><b>In a Jupyter environment, please rerun this cell to show the HTML representation or trust the notebook. <br />On GitHub, the HTML representation is unable to render, please try loading this page with nbviewer.org.</b></div><div class=\"sk-container\" hidden><div class=\"sk-item\"><div class=\"sk-estimator sk-toggleable\"><input class=\"sk-toggleable__control sk-hidden--visually\" id=\"sk-estimator-id-16\" type=\"checkbox\" checked><label for=\"sk-estimator-id-16\" class=\"sk-toggleable__label sk-toggleable__label-arrow\">KNeighborsClassifier</label><div class=\"sk-toggleable__content\"><pre>KNeighborsClassifier(n_neighbors=3)</pre></div></div></div></div></div>"
            ],
            "text/plain": [
              "KNeighborsClassifier(n_neighbors=3)"
            ]
          },
          "execution_count": 203,
          "metadata": {},
          "output_type": "execute_result"
        }
      ],
      "source": [
        "knn_classifier = KNeighborsClassifier(n_neighbors = 3) #since our target has 3 values\n",
        "knn_classifier.fit(X_train, y_train)"
      ]
    },
    {
      "cell_type": "code",
      "execution_count": null,
      "metadata": {
        "trusted": true
      },
      "outputs": [
        {
          "name": "stdout",
          "output_type": "stream",
          "text": [
            "0.9583333333333334 0.9666666666666667\n"
          ]
        }
      ],
      "source": [
        "knn_train_score = knn_classifier.score(X_train, y_train)\n",
        "knn_test_score = knn_classifier.score(X_test, y_test)\n",
        "print(knn_train_score, knn_test_score)"
      ]
    },
    {
      "cell_type": "code",
      "execution_count": null,
      "metadata": {
        "trusted": true
      },
      "outputs": [],
      "source": [
        "from sklearn.metrics import accuracy_score"
      ]
    },
    {
      "cell_type": "code",
      "execution_count": null,
      "metadata": {
        "trusted": true
      },
      "outputs": [],
      "source": [
        "knn_y_pred = knn_classifier.predict(X_test)"
      ]
    },
    {
      "cell_type": "code",
      "execution_count": null,
      "metadata": {
        "trusted": true
      },
      "outputs": [
        {
          "data": {
            "text/plain": [
              "0.9666666666666667"
            ]
          },
          "execution_count": 207,
          "metadata": {},
          "output_type": "execute_result"
        }
      ],
      "source": [
        "knn_accuracy = accuracy_score(y_test, knn_y_pred)\n",
        "knn_accuracy"
      ]
    },
    {
      "cell_type": "code",
      "execution_count": null,
      "metadata": {
        "trusted": true
      },
      "outputs": [],
      "source": [
        "from sklearn.metrics import classification_report, confusion_matrix,ConfusionMatrixDisplay"
      ]
    },
    {
      "cell_type": "code",
      "execution_count": null,
      "metadata": {
        "trusted": true
      },
      "outputs": [
        {
          "data": {
            "image/png": "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",
            "text/plain": [
              "<Figure size 640x480 with 2 Axes>"
            ]
          },
          "metadata": {},
          "output_type": "display_data"
        }
      ],
      "source": [
        "# Create the confusion matrix\n",
        "cm = confusion_matrix(y_test, knn_y_pred)\n",
        "\n",
        "ConfusionMatrixDisplay(confusion_matrix=cm).plot();"
      ]
    },
    {
      "cell_type": "code",
      "execution_count": null,
      "metadata": {
        "trusted": true
      },
      "outputs": [
        {
          "name": "stdout",
          "output_type": "stream",
          "text": [
            "              precision    recall  f1-score   support\n",
            "\n",
            "           0       1.00      1.00      1.00        11\n",
            "           1       0.92      1.00      0.96        12\n",
            "           2       1.00      0.86      0.92         7\n",
            "\n",
            "    accuracy                           0.97        30\n",
            "   macro avg       0.97      0.95      0.96        30\n",
            "weighted avg       0.97      0.97      0.97        30\n",
            "\n"
          ]
        }
      ],
      "source": [
        "print(classification_report(y_test, knn_y_pred))"
      ]
    },
    {
      "cell_type": "markdown",
      "metadata": {},
      "source": [
        "The confusion matrix above shows that the diagonal elements represent the number of points for which the predicted label is equal to the true label, while off-diagonal elements are those that are mislabeled by the classifier. Cells outside the matrix diagonal are considered false negatives for the label. Which means out of the labels which have been identified as Setosa by our model, all are truly Setosa and we do not have any false negatives which means none of the Setosa have been falsely identified as either Versicolor or Virginica. In the Classification report, the predicted total of Virginica is not matching with the actual total of Virginica. This indicates that our model has identified something else as Virginica.\n",
        "\n",
        "Now, look at Versicolor row, Setosa column has 0, this indicates that none of the Versicolor has been falsely identified as Setosa. Virginica column has a value, which means Versicolor has been falsely identified as Virginica. This a false negative for Versicolor. Similar to Virginic, Versicolor predicted results to align with actual results. This means we have a false negative in Versicolor label."
      ]
    },
    {
      "cell_type": "markdown",
      "metadata": {},
      "source": [
        "From the accuracy score, we see that our model performs very well with 96.66% accuracy, the score is very high - however there could be a potential overfitting problem."
      ]
    },
    {
      "cell_type": "markdown",
      "metadata": {},
      "source": [
        "***Random Forest Classifier***"
      ]
    },
    {
      "cell_type": "code",
      "execution_count": null,
      "metadata": {
        "trusted": true
      },
      "outputs": [],
      "source": [
        "#Import Random Forest Model\n",
        "from sklearn.ensemble import RandomForestClassifier\n",
        "\n",
        "#Create a Gaussian Classifier\n",
        "clf=RandomForestClassifier(n_estimators=100)\n",
        "\n",
        "#Train the model using the training sets y_pred=clf.predict(X_test)\n",
        "clf.fit(X_train,y_train)\n",
        "\n",
        "y_pred=clf.predict(X_test)"
      ]
    },
    {
      "cell_type": "code",
      "execution_count": null,
      "metadata": {
        "trusted": true
      },
      "outputs": [
        {
          "name": "stdout",
          "output_type": "stream",
          "text": [
            "Accuracy: 0.9333333333333333\n"
          ]
        }
      ],
      "source": [
        "from sklearn.metrics import accuracy_score\n",
        "# Model Accuracy, how often is the classifier correct?\n",
        "print(\"Accuracy:\",accuracy_score(y_test.tolist(), clf.predict(X_test)))"
      ]
    },
    {
      "cell_type": "code",
      "execution_count": null,
      "metadata": {
        "trusted": true
      },
      "outputs": [],
      "source": [
        "rf = RandomForestClassifier(max_depth=2,random_state=0)\n",
        "rf = rf.fit(X_train, y_train)"
      ]
    },
    {
      "cell_type": "code",
      "execution_count": null,
      "metadata": {
        "trusted": true
      },
      "outputs": [
        {
          "name": "stdout",
          "output_type": "stream",
          "text": [
            "Score, Training, dtc:  0.975\n",
            "Score, Testing, dtc:  0.9333333333333333\n"
          ]
        }
      ],
      "source": [
        "print('Score, Training, dtc: ', rf.score(X_train,y_train)) #accuracy score on training data\n",
        "print('Score, Testing, dtc: ', rf.score(X_test,y_test))"
      ]
    },
    {
      "cell_type": "code",
      "execution_count": null,
      "metadata": {
        "trusted": true
      },
      "outputs": [
        {
          "data": {
            "image/png": "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",
            "text/plain": [
              "<Figure size 640x480 with 2 Axes>"
            ]
          },
          "metadata": {},
          "output_type": "display_data"
        }
      ],
      "source": [
        "# Create the confusion matrix\n",
        "cm = confusion_matrix(y_test, y_pred)\n",
        "\n",
        "ConfusionMatrixDisplay(confusion_matrix=cm).plot();"
      ]
    },
    {
      "cell_type": "markdown",
      "metadata": {},
      "source": [
        "***Summary***"
      ]
    },
    {
      "cell_type": "markdown",
      "metadata": {},
      "source": [
        "Both model correctly separates the setosa examples, but exhibits a small amount of confusion when attempting to distinguish between versicolor and virginica. The KNN Classification model had higher values for both training 95.8% and testing set at 96% with an overall accuracy of 96% while the RFC had an accuracy of 93% with a high chance of false labeling based on the confuse matrix."
      ]
    }
  ],
  "metadata": {
    "kernelspec": {
      "display_name": "Python (Pyodide)",
      "language": "python",
      "name": "python"
    },
    "language_info": {
      "codemirror_mode": {
        "name": "python",
        "version": 3
      },
      "file_extension": ".py",
      "mimetype": "text/x-python",
      "name": "python",
      "nbconvert_exporter": "python",
      "pygments_lexer": "ipython3",
      "version": "3.8"
    }
  },
  "nbformat": 4,
  "nbformat_minor": 4
}
