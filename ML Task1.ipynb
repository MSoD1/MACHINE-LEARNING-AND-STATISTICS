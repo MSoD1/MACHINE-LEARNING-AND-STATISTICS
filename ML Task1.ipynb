{
  "metadata": {
    "language_info": {
      "codemirror_mode": {
        "name": "python",
        "version": 3
      },
      "file_extension": ".py",
      "mimetype": "text/x-python",
      "name": "python",
      "nbconvert_exporter": "python",
      "pygments_lexer": "ipython3",
      "version": "3.8"
    },
    "kernelspec": {
      "name": "python",
      "display_name": "Python (Pyodide)",
      "language": "python"
    }
  },
  "nbformat_minor": 4,
  "nbformat": 4,
  "cells": [
    {
      "cell_type": "markdown",
      "source": "# Tasks: Machine Learning and Statistics\n**Machine Learning and Statistics - Tasks 2023**\n\n **Introduction**<br>\n    This notebook forms a part of the assignment for the module Machine Lerning and Statistics.<br>\n    The notebook consist of discussion and solutions to five tasks:<br>\n    \n> **Tasks**: <br> <p style='text-align: justify;'> 1. Square roots are difficult to calculate. In Python, you typically use the power operator (a double asterisk) or a package such as math. In this task, you should write a function $\\sqrt(x)$ to approximate the square root of a floating point number x without using the power operator or a package.<br>Rather, you should use the Newton’s method. Start with an initial guess for the square root called $z_{0}$. You then repeatedly improve it using the following formula, until the difference between some previous guess $z_{i}$ and the next  $z_{i+1}$ is less than some threshold, say 0.01.<br> </p> <br> <p style='text-align: center;'> $z_{i+1} = z_{i} - \\frac{z_{i} \\times z_{i}-x}{2z_{i}}$ <br> </p><p style='text-align: justify;'><br>2. Consider the below contingency table based on a survey asking respondents whether they prefer coffee or tea and whether they prefer plain or chocolate biscuits. Use scipy.stats to perform a chi-squared test to see whether there is any evidence of an association between drink preference and biscuit preference in this instance.</p> <br> <p style='text-align: center;'><table><thead><td></td><td>*Biscuit*</td></thead> <thead><tr><th></th><th>Chocolate</th><th>Plain</th></tr></thead><tbody><tr><td rowspan=\"2\">*Drink*</td><th>Coffee</th><td>43</td><td>57</td></tr><tr><th>Tea</th><td>56</td><td>45</td></tr></tbody></table><br> </p><p style='text-align: justify;'>3. Perform a t-test on the famous penguins data set to investigate whether there is evidence of a significant difference in the body mass of male and female gentoo penguins.<br> </p><p style='text-align: justify;'>4. Using the famous iris data set,suggest whether the setosa class is easily separable from the other two classes. Provide evidence for your answer. <br> </p> <p style='text-align: justify;'>5. Perform Principal Component Analysis on the iris data set,reducing the number of dimensions to two. Explain the purposeof the analysis and your results. <br> </p> \n    ",
      "metadata": {}
    },
    {
      "cell_type": "markdown",
      "source": " **Task 1**<br>\n ",
      "metadata": {}
    },
    {
      "cell_type": "code",
      "source": "def newton_method(number, number_iters = 500):\n    a = float(number) # number to get square root of\n    for i in range(number_iters): # iteration number\n        number = 0.5 * (number + a / number) # update\n\t  # x_(n+1) = 0.5 * (x_n +a / x_n)\n    return number\n\nprint(newton_method(20))",
      "metadata": {
        "trusted": true
      },
      "execution_count": 7,
      "outputs": [
        {
          "name": "stdout",
          "text": "4.47213595499958\n",
          "output_type": "stream"
        }
      ]
    },
    {
      "cell_type": "code",
      "source": "",
      "metadata": {},
      "execution_count": null,
      "outputs": []
    },
    {
      "cell_type": "code",
      "source": "",
      "metadata": {},
      "execution_count": null,
      "outputs": []
    }
  ]
}
